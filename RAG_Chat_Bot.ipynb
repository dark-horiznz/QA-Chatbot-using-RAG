{
  "nbformat": 4,
  "nbformat_minor": 0,
  "metadata": {
    "colab": {
      "provenance": []
    },
    "kernelspec": {
      "name": "python3",
      "display_name": "Python 3"
    },
    "language_info": {
      "name": "python"
    }
  },
  "cells": [
    {
      "cell_type": "code",
      "execution_count": 1,
      "metadata": {
        "colab": {
          "base_uri": "https://localhost:8080/",
          "height": 0
        },
        "collapsed": true,
        "id": "EJPObJDigKPv",
        "outputId": "67410aa7-b56e-45b7-81ce-9ae06628254f"
      },
      "outputs": [
        {
          "output_type": "stream",
          "name": "stdout",
          "text": [
            "Collecting langchain_community\n",
            "  Downloading langchain_community-0.2.10-py3-none-any.whl (2.3 MB)\n",
            "\u001b[2K     \u001b[90m━━━━━━━━━━━━━━━━━━━━━━━━━━━━━━━━━━━━━━━━\u001b[0m \u001b[32m2.3/2.3 MB\u001b[0m \u001b[31m10.9 MB/s\u001b[0m eta \u001b[36m0:00:00\u001b[0m\n",
            "\u001b[?25hCollecting tiktoken\n",
            "  Downloading tiktoken-0.7.0-cp310-cp310-manylinux_2_17_x86_64.manylinux2014_x86_64.whl (1.1 MB)\n",
            "\u001b[2K     \u001b[90m━━━━━━━━━━━━━━━━━━━━━━━━━━━━━━━━━━━━━━━━\u001b[0m \u001b[32m1.1/1.1 MB\u001b[0m \u001b[31m19.8 MB/s\u001b[0m eta \u001b[36m0:00:00\u001b[0m\n",
            "\u001b[?25hCollecting langchain-openai\n",
            "  Downloading langchain_openai-0.1.17-py3-none-any.whl (46 kB)\n",
            "\u001b[2K     \u001b[90m━━━━━━━━━━━━━━━━━━━━━━━━━━━━━━━━━━━━━━━━\u001b[0m \u001b[32m46.7/46.7 kB\u001b[0m \u001b[31m6.4 MB/s\u001b[0m eta \u001b[36m0:00:00\u001b[0m\n",
            "\u001b[?25hCollecting langchainhub\n",
            "  Downloading langchainhub-0.1.20-py3-none-any.whl (5.0 kB)\n",
            "Collecting chromadb\n",
            "  Downloading chromadb-0.5.5-py3-none-any.whl (584 kB)\n",
            "\u001b[2K     \u001b[90m━━━━━━━━━━━━━━━━━━━━━━━━━━━━━━━━━━━━━━━━\u001b[0m \u001b[32m584.3/584.3 kB\u001b[0m \u001b[31m22.9 MB/s\u001b[0m eta \u001b[36m0:00:00\u001b[0m\n",
            "\u001b[?25hCollecting langchain\n",
            "  Downloading langchain-0.2.11-py3-none-any.whl (990 kB)\n",
            "\u001b[2K     \u001b[90m━━━━━━━━━━━━━━━━━━━━━━━━━━━━━━━━━━━━━━━━\u001b[0m \u001b[32m990.3/990.3 kB\u001b[0m \u001b[31m25.7 MB/s\u001b[0m eta \u001b[36m0:00:00\u001b[0m\n",
            "\u001b[?25hCollecting pinecone\n",
            "  Downloading pinecone-4.0.0-py3-none-any.whl (214 kB)\n",
            "\u001b[2K     \u001b[90m━━━━━━━━━━━━━━━━━━━━━━━━━━━━━━━━━━━━━━━━\u001b[0m \u001b[32m214.4/214.4 kB\u001b[0m \u001b[31m25.9 MB/s\u001b[0m eta \u001b[36m0:00:00\u001b[0m\n",
            "\u001b[?25hCollecting pypdf\n",
            "  Downloading pypdf-4.3.1-py3-none-any.whl (295 kB)\n",
            "\u001b[2K     \u001b[90m━━━━━━━━━━━━━━━━━━━━━━━━━━━━━━━━━━━━━━━━\u001b[0m \u001b[32m295.8/295.8 kB\u001b[0m \u001b[31m19.0 MB/s\u001b[0m eta \u001b[36m0:00:00\u001b[0m\n",
            "\u001b[?25hRequirement already satisfied: PyYAML>=5.3 in /usr/local/lib/python3.10/dist-packages (from langchain_community) (6.0.1)\n",
            "Requirement already satisfied: SQLAlchemy<3,>=1.4 in /usr/local/lib/python3.10/dist-packages (from langchain_community) (2.0.31)\n",
            "Requirement already satisfied: aiohttp<4.0.0,>=3.8.3 in /usr/local/lib/python3.10/dist-packages (from langchain_community) (3.9.5)\n",
            "Collecting dataclasses-json<0.7,>=0.5.7 (from langchain_community)\n",
            "  Downloading dataclasses_json-0.6.7-py3-none-any.whl (28 kB)\n",
            "Collecting langchain-core<0.3.0,>=0.2.23 (from langchain_community)\n",
            "  Downloading langchain_core-0.2.23-py3-none-any.whl (374 kB)\n",
            "\u001b[2K     \u001b[90m━━━━━━━━━━━━━━━━━━━━━━━━━━━━━━━━━━━━━━━━\u001b[0m \u001b[32m374.2/374.2 kB\u001b[0m \u001b[31m22.1 MB/s\u001b[0m eta \u001b[36m0:00:00\u001b[0m\n",
            "\u001b[?25hCollecting langsmith<0.2.0,>=0.1.0 (from langchain_community)\n",
            "  Downloading langsmith-0.1.93-py3-none-any.whl (139 kB)\n",
            "\u001b[2K     \u001b[90m━━━━━━━━━━━━━━━━━━━━━━━━━━━━━━━━━━━━━━━━\u001b[0m \u001b[32m139.8/139.8 kB\u001b[0m \u001b[31m15.3 MB/s\u001b[0m eta \u001b[36m0:00:00\u001b[0m\n",
            "\u001b[?25hRequirement already satisfied: numpy<2,>=1 in /usr/local/lib/python3.10/dist-packages (from langchain_community) (1.25.2)\n",
            "Requirement already satisfied: requests<3,>=2 in /usr/local/lib/python3.10/dist-packages (from langchain_community) (2.31.0)\n",
            "Requirement already satisfied: tenacity!=8.4.0,<9.0.0,>=8.1.0 in /usr/local/lib/python3.10/dist-packages (from langchain_community) (8.5.0)\n",
            "Requirement already satisfied: regex>=2022.1.18 in /usr/local/lib/python3.10/dist-packages (from tiktoken) (2024.5.15)\n",
            "Collecting openai<2.0.0,>=1.32.0 (from langchain-openai)\n",
            "  Downloading openai-1.37.0-py3-none-any.whl (337 kB)\n",
            "\u001b[2K     \u001b[90m━━━━━━━━━━━━━━━━━━━━━━━━━━━━━━━━━━━━━━━━\u001b[0m \u001b[32m337.0/337.0 kB\u001b[0m \u001b[31m21.6 MB/s\u001b[0m eta \u001b[36m0:00:00\u001b[0m\n",
            "\u001b[?25hRequirement already satisfied: packaging<25,>=23.2 in /usr/local/lib/python3.10/dist-packages (from langchainhub) (24.1)\n",
            "Collecting types-requests<3.0.0.0,>=2.31.0.2 (from langchainhub)\n",
            "  Downloading types_requests-2.32.0.20240712-py3-none-any.whl (15 kB)\n",
            "Requirement already satisfied: build>=1.0.3 in /usr/local/lib/python3.10/dist-packages (from chromadb) (1.2.1)\n",
            "Requirement already satisfied: pydantic>=1.9 in /usr/local/lib/python3.10/dist-packages (from chromadb) (2.8.2)\n",
            "Collecting chroma-hnswlib==0.7.6 (from chromadb)\n",
            "  Downloading chroma_hnswlib-0.7.6-cp310-cp310-manylinux_2_17_x86_64.manylinux2014_x86_64.whl (2.4 MB)\n",
            "\u001b[2K     \u001b[90m━━━━━━━━━━━━━━━━━━━━━━━━━━━━━━━━━━━━━━━━\u001b[0m \u001b[32m2.4/2.4 MB\u001b[0m \u001b[31m34.5 MB/s\u001b[0m eta \u001b[36m0:00:00\u001b[0m\n",
            "\u001b[?25hCollecting fastapi>=0.95.2 (from chromadb)\n",
            "  Downloading fastapi-0.111.1-py3-none-any.whl (92 kB)\n",
            "\u001b[2K     \u001b[90m━━━━━━━━━━━━━━━━━━━━━━━━━━━━━━━━━━━━━━━━\u001b[0m \u001b[32m92.2/92.2 kB\u001b[0m \u001b[31m11.4 MB/s\u001b[0m eta \u001b[36m0:00:00\u001b[0m\n",
            "\u001b[?25hCollecting uvicorn[standard]>=0.18.3 (from chromadb)\n",
            "  Downloading uvicorn-0.30.3-py3-none-any.whl (62 kB)\n",
            "\u001b[2K     \u001b[90m━━━━━━━━━━━━━━━━━━━━━━━━━━━━━━━━━━━━━━━━\u001b[0m \u001b[32m62.8/62.8 kB\u001b[0m \u001b[31m7.6 MB/s\u001b[0m eta \u001b[36m0:00:00\u001b[0m\n",
            "\u001b[?25hCollecting posthog>=2.4.0 (from chromadb)\n",
            "  Downloading posthog-3.5.0-py2.py3-none-any.whl (41 kB)\n",
            "\u001b[2K     \u001b[90m━━━━━━━━━━━━━━━━━━━━━━━━━━━━━━━━━━━━━━━━\u001b[0m \u001b[32m41.3/41.3 kB\u001b[0m \u001b[31m5.2 MB/s\u001b[0m eta \u001b[36m0:00:00\u001b[0m\n",
            "\u001b[?25hRequirement already satisfied: typing-extensions>=4.5.0 in /usr/local/lib/python3.10/dist-packages (from chromadb) (4.12.2)\n",
            "Collecting onnxruntime>=1.14.1 (from chromadb)\n",
            "  Downloading onnxruntime-1.18.1-cp310-cp310-manylinux_2_27_x86_64.manylinux_2_28_x86_64.whl (6.8 MB)\n",
            "\u001b[2K     \u001b[90m━━━━━━━━━━━━━━━━━━━━━━━━━━━━━━━━━━━━━━━━\u001b[0m \u001b[32m6.8/6.8 MB\u001b[0m \u001b[31m54.9 MB/s\u001b[0m eta \u001b[36m0:00:00\u001b[0m\n",
            "\u001b[?25hCollecting opentelemetry-api>=1.2.0 (from chromadb)\n",
            "  Downloading opentelemetry_api-1.25.0-py3-none-any.whl (59 kB)\n",
            "\u001b[2K     \u001b[90m━━━━━━━━━━━━━━━━━━━━━━━━━━━━━━━━━━━━━━━━\u001b[0m \u001b[32m59.9/59.9 kB\u001b[0m \u001b[31m8.3 MB/s\u001b[0m eta \u001b[36m0:00:00\u001b[0m\n",
            "\u001b[?25hCollecting opentelemetry-exporter-otlp-proto-grpc>=1.2.0 (from chromadb)\n",
            "  Downloading opentelemetry_exporter_otlp_proto_grpc-1.25.0-py3-none-any.whl (18 kB)\n",
            "Collecting opentelemetry-instrumentation-fastapi>=0.41b0 (from chromadb)\n",
            "  Downloading opentelemetry_instrumentation_fastapi-0.46b0-py3-none-any.whl (11 kB)\n",
            "Collecting opentelemetry-sdk>=1.2.0 (from chromadb)\n",
            "  Downloading opentelemetry_sdk-1.25.0-py3-none-any.whl (107 kB)\n",
            "\u001b[2K     \u001b[90m━━━━━━━━━━━━━━━━━━━━━━━━━━━━━━━━━━━━━━━━\u001b[0m \u001b[32m107.0/107.0 kB\u001b[0m \u001b[31m11.0 MB/s\u001b[0m eta \u001b[36m0:00:00\u001b[0m\n",
            "\u001b[?25hRequirement already satisfied: tokenizers>=0.13.2 in /usr/local/lib/python3.10/dist-packages (from chromadb) (0.19.1)\n",
            "Collecting pypika>=0.48.9 (from chromadb)\n",
            "  Downloading PyPika-0.48.9.tar.gz (67 kB)\n",
            "\u001b[2K     \u001b[90m━━━━━━━━━━━━━━━━━━━━━━━━━━━━━━━━━━━━━━━━\u001b[0m \u001b[32m67.3/67.3 kB\u001b[0m \u001b[31m8.3 MB/s\u001b[0m eta \u001b[36m0:00:00\u001b[0m\n",
            "\u001b[?25h  Installing build dependencies ... \u001b[?25l\u001b[?25hdone\n",
            "  Getting requirements to build wheel ... \u001b[?25l\u001b[?25hdone\n",
            "  Preparing metadata (pyproject.toml) ... \u001b[?25l\u001b[?25hdone\n",
            "Requirement already satisfied: tqdm>=4.65.0 in /usr/local/lib/python3.10/dist-packages (from chromadb) (4.66.4)\n",
            "Collecting overrides>=7.3.1 (from chromadb)\n",
            "  Downloading overrides-7.7.0-py3-none-any.whl (17 kB)\n",
            "Requirement already satisfied: importlib-resources in /usr/local/lib/python3.10/dist-packages (from chromadb) (6.4.0)\n",
            "Requirement already satisfied: grpcio>=1.58.0 in /usr/local/lib/python3.10/dist-packages (from chromadb) (1.64.1)\n",
            "Collecting bcrypt>=4.0.1 (from chromadb)\n",
            "  Downloading bcrypt-4.2.0-cp39-abi3-manylinux_2_28_x86_64.whl (273 kB)\n",
            "\u001b[2K     \u001b[90m━━━━━━━━━━━━━━━━━━━━━━━━━━━━━━━━━━━━━━━━\u001b[0m \u001b[32m273.8/273.8 kB\u001b[0m \u001b[31m26.2 MB/s\u001b[0m eta \u001b[36m0:00:00\u001b[0m\n",
            "\u001b[?25hRequirement already satisfied: typer>=0.9.0 in /usr/local/lib/python3.10/dist-packages (from chromadb) (0.12.3)\n",
            "Collecting kubernetes>=28.1.0 (from chromadb)\n",
            "  Downloading kubernetes-30.1.0-py2.py3-none-any.whl (1.7 MB)\n",
            "\u001b[2K     \u001b[90m━━━━━━━━━━━━━━━━━━━━━━━━━━━━━━━━━━━━━━━━\u001b[0m \u001b[32m1.7/1.7 MB\u001b[0m \u001b[31m57.2 MB/s\u001b[0m eta \u001b[36m0:00:00\u001b[0m\n",
            "\u001b[?25hCollecting mmh3>=4.0.1 (from chromadb)\n",
            "  Downloading mmh3-4.1.0-cp310-cp310-manylinux_2_5_x86_64.manylinux1_x86_64.manylinux_2_17_x86_64.manylinux2014_x86_64.whl (67 kB)\n",
            "\u001b[2K     \u001b[90m━━━━━━━━━━━━━━━━━━━━━━━━━━━━━━━━━━━━━━━━\u001b[0m \u001b[32m67.6/67.6 kB\u001b[0m \u001b[31m7.5 MB/s\u001b[0m eta \u001b[36m0:00:00\u001b[0m\n",
            "\u001b[?25hCollecting orjson>=3.9.12 (from chromadb)\n",
            "  Downloading orjson-3.10.6-cp310-cp310-manylinux_2_17_x86_64.manylinux2014_x86_64.whl (141 kB)\n",
            "\u001b[2K     \u001b[90m━━━━━━━━━━━━━━━━━━━━━━━━━━━━━━━━━━━━━━━━\u001b[0m \u001b[32m141.1/141.1 kB\u001b[0m \u001b[31m18.6 MB/s\u001b[0m eta \u001b[36m0:00:00\u001b[0m\n",
            "\u001b[?25hCollecting httpx>=0.27.0 (from chromadb)\n",
            "  Downloading httpx-0.27.0-py3-none-any.whl (75 kB)\n",
            "\u001b[2K     \u001b[90m━━━━━━━━━━━━━━━━━━━━━━━━━━━━━━━━━━━━━━━━\u001b[0m \u001b[32m75.6/75.6 kB\u001b[0m \u001b[31m10.0 MB/s\u001b[0m eta \u001b[36m0:00:00\u001b[0m\n",
            "\u001b[?25hRequirement already satisfied: async-timeout<5.0.0,>=4.0.0 in /usr/local/lib/python3.10/dist-packages (from langchain) (4.0.3)\n",
            "Collecting langchain-text-splitters<0.3.0,>=0.2.0 (from langchain)\n",
            "  Downloading langchain_text_splitters-0.2.2-py3-none-any.whl (25 kB)\n",
            "Requirement already satisfied: certifi>=2019.11.17 in /usr/local/lib/python3.10/dist-packages (from pinecone) (2024.7.4)\n",
            "Requirement already satisfied: urllib3>=1.26.0 in /usr/local/lib/python3.10/dist-packages (from pinecone) (2.0.7)\n",
            "Requirement already satisfied: aiosignal>=1.1.2 in /usr/local/lib/python3.10/dist-packages (from aiohttp<4.0.0,>=3.8.3->langchain_community) (1.3.1)\n",
            "Requirement already satisfied: attrs>=17.3.0 in /usr/local/lib/python3.10/dist-packages (from aiohttp<4.0.0,>=3.8.3->langchain_community) (23.2.0)\n",
            "Requirement already satisfied: frozenlist>=1.1.1 in /usr/local/lib/python3.10/dist-packages (from aiohttp<4.0.0,>=3.8.3->langchain_community) (1.4.1)\n",
            "Requirement already satisfied: multidict<7.0,>=4.5 in /usr/local/lib/python3.10/dist-packages (from aiohttp<4.0.0,>=3.8.3->langchain_community) (6.0.5)\n",
            "Requirement already satisfied: yarl<2.0,>=1.0 in /usr/local/lib/python3.10/dist-packages (from aiohttp<4.0.0,>=3.8.3->langchain_community) (1.9.4)\n",
            "Requirement already satisfied: pyproject_hooks in /usr/local/lib/python3.10/dist-packages (from build>=1.0.3->chromadb) (1.1.0)\n",
            "Requirement already satisfied: tomli>=1.1.0 in /usr/local/lib/python3.10/dist-packages (from build>=1.0.3->chromadb) (2.0.1)\n",
            "Collecting marshmallow<4.0.0,>=3.18.0 (from dataclasses-json<0.7,>=0.5.7->langchain_community)\n",
            "  Downloading marshmallow-3.21.3-py3-none-any.whl (49 kB)\n",
            "\u001b[2K     \u001b[90m━━━━━━━━━━━━━━━━━━━━━━━━━━━━━━━━━━━━━━━━\u001b[0m \u001b[32m49.2/49.2 kB\u001b[0m \u001b[31m6.1 MB/s\u001b[0m eta \u001b[36m0:00:00\u001b[0m\n",
            "\u001b[?25hCollecting typing-inspect<1,>=0.4.0 (from dataclasses-json<0.7,>=0.5.7->langchain_community)\n",
            "  Downloading typing_inspect-0.9.0-py3-none-any.whl (8.8 kB)\n",
            "Collecting starlette<0.38.0,>=0.37.2 (from fastapi>=0.95.2->chromadb)\n",
            "  Downloading starlette-0.37.2-py3-none-any.whl (71 kB)\n",
            "\u001b[2K     \u001b[90m━━━━━━━━━━━━━━━━━━━━━━━━━━━━━━━━━━━━━━━━\u001b[0m \u001b[32m71.9/71.9 kB\u001b[0m \u001b[31m9.8 MB/s\u001b[0m eta \u001b[36m0:00:00\u001b[0m\n",
            "\u001b[?25hCollecting fastapi-cli>=0.0.2 (from fastapi>=0.95.2->chromadb)\n",
            "  Downloading fastapi_cli-0.0.4-py3-none-any.whl (9.5 kB)\n",
            "Requirement already satisfied: jinja2>=2.11.2 in /usr/local/lib/python3.10/dist-packages (from fastapi>=0.95.2->chromadb) (3.1.4)\n",
            "Collecting python-multipart>=0.0.7 (from fastapi>=0.95.2->chromadb)\n",
            "  Downloading python_multipart-0.0.9-py3-none-any.whl (22 kB)\n",
            "Collecting email_validator>=2.0.0 (from fastapi>=0.95.2->chromadb)\n",
            "  Downloading email_validator-2.2.0-py3-none-any.whl (33 kB)\n",
            "Requirement already satisfied: anyio in /usr/local/lib/python3.10/dist-packages (from httpx>=0.27.0->chromadb) (3.7.1)\n",
            "Collecting httpcore==1.* (from httpx>=0.27.0->chromadb)\n",
            "  Downloading httpcore-1.0.5-py3-none-any.whl (77 kB)\n",
            "\u001b[2K     \u001b[90m━━━━━━━━━━━━━━━━━━━━━━━━━━━━━━━━━━━━━━━━\u001b[0m \u001b[32m77.9/77.9 kB\u001b[0m \u001b[31m9.9 MB/s\u001b[0m eta \u001b[36m0:00:00\u001b[0m\n",
            "\u001b[?25hRequirement already satisfied: idna in /usr/local/lib/python3.10/dist-packages (from httpx>=0.27.0->chromadb) (3.7)\n",
            "Requirement already satisfied: sniffio in /usr/local/lib/python3.10/dist-packages (from httpx>=0.27.0->chromadb) (1.3.1)\n",
            "Collecting h11<0.15,>=0.13 (from httpcore==1.*->httpx>=0.27.0->chromadb)\n",
            "  Downloading h11-0.14.0-py3-none-any.whl (58 kB)\n",
            "\u001b[2K     \u001b[90m━━━━━━━━━━━━━━━━━━━━━━━━━━━━━━━━━━━━━━━━\u001b[0m \u001b[32m58.3/58.3 kB\u001b[0m \u001b[31m8.0 MB/s\u001b[0m eta \u001b[36m0:00:00\u001b[0m\n",
            "\u001b[?25hRequirement already satisfied: six>=1.9.0 in /usr/local/lib/python3.10/dist-packages (from kubernetes>=28.1.0->chromadb) (1.16.0)\n",
            "Requirement already satisfied: python-dateutil>=2.5.3 in /usr/local/lib/python3.10/dist-packages (from kubernetes>=28.1.0->chromadb) (2.8.2)\n",
            "Requirement already satisfied: google-auth>=1.0.1 in /usr/local/lib/python3.10/dist-packages (from kubernetes>=28.1.0->chromadb) (2.27.0)\n",
            "Requirement already satisfied: websocket-client!=0.40.0,!=0.41.*,!=0.42.*,>=0.32.0 in /usr/local/lib/python3.10/dist-packages (from kubernetes>=28.1.0->chromadb) (1.8.0)\n",
            "Requirement already satisfied: requests-oauthlib in /usr/local/lib/python3.10/dist-packages (from kubernetes>=28.1.0->chromadb) (1.3.1)\n",
            "Requirement already satisfied: oauthlib>=3.2.2 in /usr/local/lib/python3.10/dist-packages (from kubernetes>=28.1.0->chromadb) (3.2.2)\n",
            "Collecting jsonpatch<2.0,>=1.33 (from langchain-core<0.3.0,>=0.2.23->langchain_community)\n",
            "  Downloading jsonpatch-1.33-py2.py3-none-any.whl (12 kB)\n",
            "Collecting coloredlogs (from onnxruntime>=1.14.1->chromadb)\n",
            "  Downloading coloredlogs-15.0.1-py2.py3-none-any.whl (46 kB)\n",
            "\u001b[2K     \u001b[90m━━━━━━━━━━━━━━━━━━━━━━━━━━━━━━━━━━━━━━━━\u001b[0m \u001b[32m46.0/46.0 kB\u001b[0m \u001b[31m5.8 MB/s\u001b[0m eta \u001b[36m0:00:00\u001b[0m\n",
            "\u001b[?25hRequirement already satisfied: flatbuffers in /usr/local/lib/python3.10/dist-packages (from onnxruntime>=1.14.1->chromadb) (24.3.25)\n",
            "Requirement already satisfied: protobuf in /usr/local/lib/python3.10/dist-packages (from onnxruntime>=1.14.1->chromadb) (3.20.3)\n",
            "Requirement already satisfied: sympy in /usr/local/lib/python3.10/dist-packages (from onnxruntime>=1.14.1->chromadb) (1.13.0)\n",
            "Requirement already satisfied: distro<2,>=1.7.0 in /usr/lib/python3/dist-packages (from openai<2.0.0,>=1.32.0->langchain-openai) (1.7.0)\n",
            "Collecting deprecated>=1.2.6 (from opentelemetry-api>=1.2.0->chromadb)\n",
            "  Downloading Deprecated-1.2.14-py2.py3-none-any.whl (9.6 kB)\n",
            "Collecting importlib-metadata<=7.1,>=6.0 (from opentelemetry-api>=1.2.0->chromadb)\n",
            "  Downloading importlib_metadata-7.1.0-py3-none-any.whl (24 kB)\n",
            "Requirement already satisfied: googleapis-common-protos~=1.52 in /usr/local/lib/python3.10/dist-packages (from opentelemetry-exporter-otlp-proto-grpc>=1.2.0->chromadb) (1.63.2)\n",
            "Collecting opentelemetry-exporter-otlp-proto-common==1.25.0 (from opentelemetry-exporter-otlp-proto-grpc>=1.2.0->chromadb)\n",
            "  Downloading opentelemetry_exporter_otlp_proto_common-1.25.0-py3-none-any.whl (17 kB)\n",
            "Collecting opentelemetry-proto==1.25.0 (from opentelemetry-exporter-otlp-proto-grpc>=1.2.0->chromadb)\n",
            "  Downloading opentelemetry_proto-1.25.0-py3-none-any.whl (52 kB)\n",
            "\u001b[2K     \u001b[90m━━━━━━━━━━━━━━━━━━━━━━━━━━━━━━━━━━━━━━━━\u001b[0m \u001b[32m52.5/52.5 kB\u001b[0m \u001b[31m7.1 MB/s\u001b[0m eta \u001b[36m0:00:00\u001b[0m\n",
            "\u001b[?25hCollecting opentelemetry-instrumentation-asgi==0.46b0 (from opentelemetry-instrumentation-fastapi>=0.41b0->chromadb)\n",
            "  Downloading opentelemetry_instrumentation_asgi-0.46b0-py3-none-any.whl (14 kB)\n",
            "Collecting opentelemetry-instrumentation==0.46b0 (from opentelemetry-instrumentation-fastapi>=0.41b0->chromadb)\n",
            "  Downloading opentelemetry_instrumentation-0.46b0-py3-none-any.whl (29 kB)\n",
            "Collecting opentelemetry-semantic-conventions==0.46b0 (from opentelemetry-instrumentation-fastapi>=0.41b0->chromadb)\n",
            "  Downloading opentelemetry_semantic_conventions-0.46b0-py3-none-any.whl (130 kB)\n",
            "\u001b[2K     \u001b[90m━━━━━━━━━━━━━━━━━━━━━━━━━━━━━━━━━━━━━━━━\u001b[0m \u001b[32m130.5/130.5 kB\u001b[0m \u001b[31m15.6 MB/s\u001b[0m eta \u001b[36m0:00:00\u001b[0m\n",
            "\u001b[?25hCollecting opentelemetry-util-http==0.46b0 (from opentelemetry-instrumentation-fastapi>=0.41b0->chromadb)\n",
            "  Downloading opentelemetry_util_http-0.46b0-py3-none-any.whl (6.9 kB)\n",
            "Requirement already satisfied: setuptools>=16.0 in /usr/local/lib/python3.10/dist-packages (from opentelemetry-instrumentation==0.46b0->opentelemetry-instrumentation-fastapi>=0.41b0->chromadb) (67.7.2)\n",
            "Requirement already satisfied: wrapt<2.0.0,>=1.0.0 in /usr/local/lib/python3.10/dist-packages (from opentelemetry-instrumentation==0.46b0->opentelemetry-instrumentation-fastapi>=0.41b0->chromadb) (1.14.1)\n",
            "Collecting asgiref~=3.0 (from opentelemetry-instrumentation-asgi==0.46b0->opentelemetry-instrumentation-fastapi>=0.41b0->chromadb)\n",
            "  Downloading asgiref-3.8.1-py3-none-any.whl (23 kB)\n",
            "Collecting monotonic>=1.5 (from posthog>=2.4.0->chromadb)\n",
            "  Downloading monotonic-1.6-py2.py3-none-any.whl (8.2 kB)\n",
            "Collecting backoff>=1.10.0 (from posthog>=2.4.0->chromadb)\n",
            "  Downloading backoff-2.2.1-py3-none-any.whl (15 kB)\n",
            "Requirement already satisfied: annotated-types>=0.4.0 in /usr/local/lib/python3.10/dist-packages (from pydantic>=1.9->chromadb) (0.7.0)\n",
            "Requirement already satisfied: pydantic-core==2.20.1 in /usr/local/lib/python3.10/dist-packages (from pydantic>=1.9->chromadb) (2.20.1)\n",
            "Requirement already satisfied: charset-normalizer<4,>=2 in /usr/local/lib/python3.10/dist-packages (from requests<3,>=2->langchain_community) (3.3.2)\n",
            "Requirement already satisfied: greenlet!=0.4.17 in /usr/local/lib/python3.10/dist-packages (from SQLAlchemy<3,>=1.4->langchain_community) (3.0.3)\n",
            "Requirement already satisfied: huggingface-hub<1.0,>=0.16.4 in /usr/local/lib/python3.10/dist-packages (from tokenizers>=0.13.2->chromadb) (0.23.5)\n",
            "Requirement already satisfied: click>=8.0.0 in /usr/local/lib/python3.10/dist-packages (from typer>=0.9.0->chromadb) (8.1.7)\n",
            "Requirement already satisfied: shellingham>=1.3.0 in /usr/local/lib/python3.10/dist-packages (from typer>=0.9.0->chromadb) (1.5.4)\n",
            "Requirement already satisfied: rich>=10.11.0 in /usr/local/lib/python3.10/dist-packages (from typer>=0.9.0->chromadb) (13.7.1)\n",
            "Collecting httptools>=0.5.0 (from uvicorn[standard]>=0.18.3->chromadb)\n",
            "  Downloading httptools-0.6.1-cp310-cp310-manylinux_2_5_x86_64.manylinux1_x86_64.manylinux_2_17_x86_64.manylinux2014_x86_64.whl (341 kB)\n",
            "\u001b[2K     \u001b[90m━━━━━━━━━━━━━━━━━━━━━━━━━━━━━━━━━━━━━━━━\u001b[0m \u001b[32m341.4/341.4 kB\u001b[0m \u001b[31m31.6 MB/s\u001b[0m eta \u001b[36m0:00:00\u001b[0m\n",
            "\u001b[?25hCollecting python-dotenv>=0.13 (from uvicorn[standard]>=0.18.3->chromadb)\n",
            "  Downloading python_dotenv-1.0.1-py3-none-any.whl (19 kB)\n",
            "Collecting uvloop!=0.15.0,!=0.15.1,>=0.14.0 (from uvicorn[standard]>=0.18.3->chromadb)\n",
            "  Downloading uvloop-0.19.0-cp310-cp310-manylinux_2_17_x86_64.manylinux2014_x86_64.whl (3.4 MB)\n",
            "\u001b[2K     \u001b[90m━━━━━━━━━━━━━━━━━━━━━━━━━━━━━━━━━━━━━━━━\u001b[0m \u001b[32m3.4/3.4 MB\u001b[0m \u001b[31m45.3 MB/s\u001b[0m eta \u001b[36m0:00:00\u001b[0m\n",
            "\u001b[?25hCollecting watchfiles>=0.13 (from uvicorn[standard]>=0.18.3->chromadb)\n",
            "  Downloading watchfiles-0.22.0-cp310-cp310-manylinux_2_17_x86_64.manylinux2014_x86_64.whl (1.2 MB)\n",
            "\u001b[2K     \u001b[90m━━━━━━━━━━━━━━━━━━━━━━━━━━━━━━━━━━━━━━━━\u001b[0m \u001b[32m1.2/1.2 MB\u001b[0m \u001b[31m42.9 MB/s\u001b[0m eta \u001b[36m0:00:00\u001b[0m\n",
            "\u001b[?25hCollecting websockets>=10.4 (from uvicorn[standard]>=0.18.3->chromadb)\n",
            "  Downloading websockets-12.0-cp310-cp310-manylinux_2_5_x86_64.manylinux1_x86_64.manylinux_2_17_x86_64.manylinux2014_x86_64.whl (130 kB)\n",
            "\u001b[2K     \u001b[90m━━━━━━━━━━━━━━━━━━━━━━━━━━━━━━━━━━━━━━━━\u001b[0m \u001b[32m130.2/130.2 kB\u001b[0m \u001b[31m12.5 MB/s\u001b[0m eta \u001b[36m0:00:00\u001b[0m\n",
            "\u001b[?25hRequirement already satisfied: exceptiongroup in /usr/local/lib/python3.10/dist-packages (from anyio->httpx>=0.27.0->chromadb) (1.2.2)\n",
            "Collecting dnspython>=2.0.0 (from email_validator>=2.0.0->fastapi>=0.95.2->chromadb)\n",
            "  Downloading dnspython-2.6.1-py3-none-any.whl (307 kB)\n",
            "\u001b[2K     \u001b[90m━━━━━━━━━━━━━━━━━━━━━━━━━━━━━━━━━━━━━━━━\u001b[0m \u001b[32m307.7/307.7 kB\u001b[0m \u001b[31m26.3 MB/s\u001b[0m eta \u001b[36m0:00:00\u001b[0m\n",
            "\u001b[?25hRequirement already satisfied: cachetools<6.0,>=2.0.0 in /usr/local/lib/python3.10/dist-packages (from google-auth>=1.0.1->kubernetes>=28.1.0->chromadb) (5.4.0)\n",
            "Requirement already satisfied: pyasn1-modules>=0.2.1 in /usr/local/lib/python3.10/dist-packages (from google-auth>=1.0.1->kubernetes>=28.1.0->chromadb) (0.4.0)\n",
            "Requirement already satisfied: rsa<5,>=3.1.4 in /usr/local/lib/python3.10/dist-packages (from google-auth>=1.0.1->kubernetes>=28.1.0->chromadb) (4.9)\n",
            "Requirement already satisfied: filelock in /usr/local/lib/python3.10/dist-packages (from huggingface-hub<1.0,>=0.16.4->tokenizers>=0.13.2->chromadb) (3.15.4)\n",
            "Requirement already satisfied: fsspec>=2023.5.0 in /usr/local/lib/python3.10/dist-packages (from huggingface-hub<1.0,>=0.16.4->tokenizers>=0.13.2->chromadb) (2023.6.0)\n",
            "Requirement already satisfied: zipp>=0.5 in /usr/local/lib/python3.10/dist-packages (from importlib-metadata<=7.1,>=6.0->opentelemetry-api>=1.2.0->chromadb) (3.19.2)\n",
            "Requirement already satisfied: MarkupSafe>=2.0 in /usr/local/lib/python3.10/dist-packages (from jinja2>=2.11.2->fastapi>=0.95.2->chromadb) (2.1.5)\n",
            "Collecting jsonpointer>=1.9 (from jsonpatch<2.0,>=1.33->langchain-core<0.3.0,>=0.2.23->langchain_community)\n",
            "  Downloading jsonpointer-3.0.0-py2.py3-none-any.whl (7.6 kB)\n",
            "Requirement already satisfied: markdown-it-py>=2.2.0 in /usr/local/lib/python3.10/dist-packages (from rich>=10.11.0->typer>=0.9.0->chromadb) (3.0.0)\n",
            "Requirement already satisfied: pygments<3.0.0,>=2.13.0 in /usr/local/lib/python3.10/dist-packages (from rich>=10.11.0->typer>=0.9.0->chromadb) (2.16.1)\n",
            "Collecting mypy-extensions>=0.3.0 (from typing-inspect<1,>=0.4.0->dataclasses-json<0.7,>=0.5.7->langchain_community)\n",
            "  Downloading mypy_extensions-1.0.0-py3-none-any.whl (4.7 kB)\n",
            "Collecting humanfriendly>=9.1 (from coloredlogs->onnxruntime>=1.14.1->chromadb)\n",
            "  Downloading humanfriendly-10.0-py2.py3-none-any.whl (86 kB)\n",
            "\u001b[2K     \u001b[90m━━━━━━━━━━━━━━━━━━━━━━━━━━━━━━━━━━━━━━━━\u001b[0m \u001b[32m86.8/86.8 kB\u001b[0m \u001b[31m11.2 MB/s\u001b[0m eta \u001b[36m0:00:00\u001b[0m\n",
            "\u001b[?25hRequirement already satisfied: mpmath<1.4,>=1.1.0 in /usr/local/lib/python3.10/dist-packages (from sympy->onnxruntime>=1.14.1->chromadb) (1.3.0)\n",
            "Requirement already satisfied: mdurl~=0.1 in /usr/local/lib/python3.10/dist-packages (from markdown-it-py>=2.2.0->rich>=10.11.0->typer>=0.9.0->chromadb) (0.1.2)\n",
            "Requirement already satisfied: pyasn1<0.7.0,>=0.4.6 in /usr/local/lib/python3.10/dist-packages (from pyasn1-modules>=0.2.1->google-auth>=1.0.1->kubernetes>=28.1.0->chromadb) (0.6.0)\n",
            "Building wheels for collected packages: pypika\n",
            "  Building wheel for pypika (pyproject.toml) ... \u001b[?25l\u001b[?25hdone\n",
            "  Created wheel for pypika: filename=PyPika-0.48.9-py2.py3-none-any.whl size=53724 sha256=524cd903e07d173b60e84afdc9552ab7085449ece48c65a27586ef48b68dc953\n",
            "  Stored in directory: /root/.cache/pip/wheels/e1/26/51/d0bffb3d2fd82256676d7ad3003faea3bd6dddc9577af665f4\n",
            "Successfully built pypika\n",
            "Installing collected packages: pypika, monotonic, mmh3, websockets, uvloop, types-requests, python-multipart, python-dotenv, pypdf, pinecone, overrides, orjson, opentelemetry-util-http, opentelemetry-proto, mypy-extensions, marshmallow, jsonpointer, importlib-metadata, humanfriendly, httptools, h11, dnspython, deprecated, chroma-hnswlib, bcrypt, backoff, asgiref, watchfiles, uvicorn, typing-inspect, tiktoken, starlette, posthog, opentelemetry-exporter-otlp-proto-common, opentelemetry-api, langchainhub, jsonpatch, httpcore, email_validator, coloredlogs, opentelemetry-semantic-conventions, opentelemetry-instrumentation, onnxruntime, langsmith, kubernetes, httpx, dataclasses-json, opentelemetry-sdk, opentelemetry-instrumentation-asgi, openai, langchain-core, fastapi-cli, opentelemetry-instrumentation-fastapi, opentelemetry-exporter-otlp-proto-grpc, langchain-text-splitters, langchain-openai, fastapi, langchain, chromadb, langchain_community\n",
            "  Attempting uninstall: importlib-metadata\n",
            "    Found existing installation: importlib_metadata 8.0.0\n",
            "    Uninstalling importlib_metadata-8.0.0:\n",
            "      Successfully uninstalled importlib_metadata-8.0.0\n",
            "Successfully installed asgiref-3.8.1 backoff-2.2.1 bcrypt-4.2.0 chroma-hnswlib-0.7.6 chromadb-0.5.5 coloredlogs-15.0.1 dataclasses-json-0.6.7 deprecated-1.2.14 dnspython-2.6.1 email_validator-2.2.0 fastapi-0.111.1 fastapi-cli-0.0.4 h11-0.14.0 httpcore-1.0.5 httptools-0.6.1 httpx-0.27.0 humanfriendly-10.0 importlib-metadata-7.1.0 jsonpatch-1.33 jsonpointer-3.0.0 kubernetes-30.1.0 langchain-0.2.11 langchain-core-0.2.23 langchain-openai-0.1.17 langchain-text-splitters-0.2.2 langchain_community-0.2.10 langchainhub-0.1.20 langsmith-0.1.93 marshmallow-3.21.3 mmh3-4.1.0 monotonic-1.6 mypy-extensions-1.0.0 onnxruntime-1.18.1 openai-1.37.0 opentelemetry-api-1.25.0 opentelemetry-exporter-otlp-proto-common-1.25.0 opentelemetry-exporter-otlp-proto-grpc-1.25.0 opentelemetry-instrumentation-0.46b0 opentelemetry-instrumentation-asgi-0.46b0 opentelemetry-instrumentation-fastapi-0.46b0 opentelemetry-proto-1.25.0 opentelemetry-sdk-1.25.0 opentelemetry-semantic-conventions-0.46b0 opentelemetry-util-http-0.46b0 orjson-3.10.6 overrides-7.7.0 pinecone-4.0.0 posthog-3.5.0 pypdf-4.3.1 pypika-0.48.9 python-dotenv-1.0.1 python-multipart-0.0.9 starlette-0.37.2 tiktoken-0.7.0 types-requests-2.32.0.20240712 typing-inspect-0.9.0 uvicorn-0.30.3 uvloop-0.19.0 watchfiles-0.22.0 websockets-12.0\n"
          ]
        }
      ],
      "source": [
        "! pip install langchain_community tiktoken langchain-openai langchainhub chromadb langchain pinecone pypdf"
      ]
    },
    {
      "cell_type": "code",
      "source": [
        "!pip install --upgrade pinecone-client"
      ],
      "metadata": {
        "colab": {
          "base_uri": "https://localhost:8080/",
          "height": 0
        },
        "collapsed": true,
        "id": "ysZZkCSbg1Fh",
        "outputId": "361f525f-0aad-4a9c-f6a9-87df6c53b35b"
      },
      "execution_count": 2,
      "outputs": [
        {
          "output_type": "stream",
          "name": "stdout",
          "text": [
            "Collecting pinecone-client\n",
            "  Downloading pinecone_client-5.0.0-py3-none-any.whl (244 kB)\n",
            "\u001b[?25l     \u001b[90m━━━━━━━━━━━━━━━━━━━━━━━━━━━━━━━━━━━━━━━━\u001b[0m \u001b[32m0.0/244.8 kB\u001b[0m \u001b[31m?\u001b[0m eta \u001b[36m-:--:--\u001b[0m\r\u001b[2K     \u001b[91m━━━━━━━━━━━━━━━━━━━━━━━━━━━━\u001b[0m\u001b[90m╺\u001b[0m\u001b[90m━━━━━━━━━━━\u001b[0m \u001b[32m174.1/244.8 kB\u001b[0m \u001b[31m4.9 MB/s\u001b[0m eta \u001b[36m0:00:01\u001b[0m\r\u001b[2K     \u001b[90m━━━━━━━━━━━━━━━━━━━━━━━━━━━━━━━━━━━━━━━━\u001b[0m \u001b[32m244.8/244.8 kB\u001b[0m \u001b[31m4.8 MB/s\u001b[0m eta \u001b[36m0:00:00\u001b[0m\n",
            "\u001b[?25hRequirement already satisfied: certifi>=2019.11.17 in /usr/local/lib/python3.10/dist-packages (from pinecone-client) (2024.7.4)\n",
            "Collecting pinecone-plugin-inference==1.0.2 (from pinecone-client)\n",
            "  Downloading pinecone_plugin_inference-1.0.2-py3-none-any.whl (117 kB)\n",
            "\u001b[2K     \u001b[90m━━━━━━━━━━━━━━━━━━━━━━━━━━━━━━━━━━━━━━━━\u001b[0m \u001b[32m117.6/117.6 kB\u001b[0m \u001b[31m6.1 MB/s\u001b[0m eta \u001b[36m0:00:00\u001b[0m\n",
            "\u001b[?25hCollecting pinecone-plugin-interface<0.0.8,>=0.0.7 (from pinecone-client)\n",
            "  Downloading pinecone_plugin_interface-0.0.7-py3-none-any.whl (6.2 kB)\n",
            "Requirement already satisfied: tqdm>=4.64.1 in /usr/local/lib/python3.10/dist-packages (from pinecone-client) (4.66.4)\n",
            "Requirement already satisfied: typing-extensions>=3.7.4 in /usr/local/lib/python3.10/dist-packages (from pinecone-client) (4.12.2)\n",
            "Requirement already satisfied: urllib3>=1.26.0 in /usr/local/lib/python3.10/dist-packages (from pinecone-client) (2.0.7)\n",
            "Installing collected packages: pinecone-plugin-interface, pinecone-plugin-inference, pinecone-client\n",
            "Successfully installed pinecone-client-5.0.0 pinecone-plugin-inference-1.0.2 pinecone-plugin-interface-0.0.7\n"
          ]
        }
      ]
    },
    {
      "cell_type": "code",
      "source": [
        "import os\n",
        "os.environ['LANGCHAIN_TRACING_V2'] = 'true'\n",
        "os.environ['LANGCHAIN_ENDPOINT'] = 'https://api.smith.langchain.com'\n",
        "os.environ['LANGCHAIN_API_KEY'] = '<insert-api-key>'\n",
        "os.environ['OPENAI_API_KEY'] = '<insert-api-key>'\n",
        "os.environ['PINECONE_API_KEY'] = '<insert-api-key>'\n",
        "os.environ['PINECONE_ENV'] = '<insert-env>'"
      ],
      "metadata": {
        "id": "M5P6nwnNg4Gw"
      },
      "execution_count": 3,
      "outputs": []
    },
    {
      "cell_type": "code",
      "source": [
        "import openai\n",
        "from pinecone import Pinecone\n",
        "from langchain_core.output_parsers import StrOutputParser\n",
        "from langchain_openai import ChatOpenAI, OpenAIEmbeddings\n",
        "from langchain.document_loaders import PyPDFLoader\n",
        "from langchain.text_splitter import RecursiveCharacterTextSplitter"
      ],
      "metadata": {
        "id": "4-Pjy-AxhG7v"
      },
      "execution_count": 12,
      "outputs": []
    },
    {
      "cell_type": "code",
      "source": [
        "def read_data_from_doc(dir):\n",
        "  loader = PyPDFLoader(dir)\n",
        "  docs = loader.load()\n",
        "  return docs"
      ],
      "metadata": {
        "id": "b9QAM41bhPde"
      },
      "execution_count": 13,
      "outputs": []
    },
    {
      "cell_type": "markdown",
      "source": [
        "<b>The Corpus is of a wine company as follows :-</b> <br>\n",
        "Jessup Cellars Information\n",
        "Jessup Cellars has a casual and inviting atmosphere and was the first tasting room opened in Yountville\n",
        "in 2003. You have the option of sitting inside our stunning art gallery or you may choose to enjoy the patio\n",
        "with giant umbrellas. We also have space available for private groups and special accommodations and\n",
        "snacks for your children. Our fine art is meticulously curated by our lead artist Jermaine Dante who\n",
        "exhibits his colorful creations in large formats in our spacious gallery where you can take in, or take home\n",
        "the inspiring art while imbibing your favorite Jessup wines.\n"
      ],
      "metadata": {
        "id": "FvvELIbLpZRe"
      }
    },
    {
      "cell_type": "code",
      "source": [
        "data = read_data_from_doc('/content/Data/Corpus.pdf')"
      ],
      "metadata": {
        "id": "OExaycu8hSPt"
      },
      "execution_count": 14,
      "outputs": []
    },
    {
      "cell_type": "code",
      "source": [
        "data[0]"
      ],
      "metadata": {
        "colab": {
          "base_uri": "https://localhost:8080/",
          "height": 0
        },
        "id": "CN7voViRhUEN",
        "outputId": "67a45634-b780-44d0-bc63-f833e4b0ab64"
      },
      "execution_count": 16,
      "outputs": [
        {
          "output_type": "execute_result",
          "data": {
            "text/plain": [
              "Document(metadata={'source': '/content/Data/Corpus.pdf', 'page': 0}, page_content='Jessup\\nCellars\\nCorpus\\nJessup\\nCellars\\nInformation\\nJessup\\nCellars\\nhas\\na\\ncasual\\nand\\ninviting\\natmosphere\\nand\\nwas\\nthe\\nfirst\\ntasting\\nroom\\nopened\\nin\\nYountville\\nin\\n2003.\\nYou\\nhave\\nthe\\noption\\nof\\nsitting\\ninside\\nour\\nstunning\\nart\\ngallery\\nor\\nyou\\nmay\\nchoose\\nto\\nenjoy\\nthe\\npatio\\nwith\\ngiant\\numbrellas.\\nWe\\nalso\\nhave\\nspace\\navailable\\nfor\\nprivate\\ngroups\\nand\\nspecial\\naccommodations\\nand\\nsnacks\\nfor\\nyour\\nchildren.\\nOur\\nfine\\nart\\nis\\nmeticulously\\ncurated\\nby\\nour\\nlead\\nartist\\nJermaine\\nDante\\nwho\\nexhibits\\nhis\\ncolorful\\ncreations\\nin\\nlarge\\nformats\\nin\\nour\\nspacious\\ngallery\\nwhere\\nyou\\ncan\\ntake\\nin,\\nor\\ntake\\nhome\\nthe\\ninspiring\\nart\\nwhile\\nimbibing\\nyour\\nfavorite\\nJessup\\nwines.\\nBOTH\\nSEASONED\\nWINE\\nLOVERS,\\nAND\\nTHOSE\\nJUST\\nLEARNING\\nABOUT\\nWINE,\\nARE\\nEMBRACED\\nAND\\nWELCOMED\\nAT\\nJESSUP\\nCELLARS.\\nLocated\\njust\\na\\nblock\\nnorth\\nfrom\\nthe\\nfamed\\nThe\\nFrench\\nLaundry\\nin\\nthe\\nquaint\\nvillage\\nof\\nYountville,\\nour\\nwines\\nare\\navailable\\nexclusively\\nthrough\\nour\\nTasting\\nRoom\\nGallery\\nand\\nwebsite.\\nFounded\\nby\\nDan\\nand\\nBecky\\nBlue,\\nRoy\\nand\\nCheri\\nEisiminger,\\nVance\\nand\\nJana\\nThompson,\\nJim\\nand\\nKelly\\nMazzo,\\nKerry\\nand\\nCindi\\nSolomon,\\nand\\nEric\\nand\\nMarleen\\nDonnenfeld,\\ntheir\\nmission\\nis\\nto\\ncreate\\nand\\nshare\\nlife-enriching\\nexperiences\\nfor\\ntheir\\nmembers\\nand\\nguests,\\nwhile\\nalso\\ngiving\\nback\\nto\\nthe\\ncommunity\\nthrough\\nthe\\nsupport\\nof\\nthe\\narts.\\nTHE\\nART\\nOF\\nHOSPITALITY\\nGuests\\nat\\nJessup\\nCellars\\nmay\\nchoose\\nto\\ntaste\\nat\\nits\\nwine\\nbar\\nor\\nrelax\\nwith\\nsit-down,\\nhosted\\ntastings\\nin\\nthe\\nwinery’s\\nspacious\\ngallery\\namong\\ncurated\\nart,\\nwhich\\nfeatures\\nrotating\\ninstallations\\nby\\ncelebrated\\nregional\\nand\\nnational\\nartists.The\\nwinery\\nalso\\nspecializes\\nin\\nhosting\\ninteractive\\nexperiences\\nwith\\na\\nfocus\\non\\nthe\\narts.\\nHighlights\\ninclude\\nits\\nArt\\nHouse\\nSessions\\nsummer\\nmusic\\nseries\\nand\\nArt\\nHouse\\nShort\\nFilm\\nSeries.\\nAll\\nof\\nthe\\nabove,\\nalong\\nwith\\nexclusive\\naccess\\nto\\nlimited\\nrelease\\nwines\\nand\\nmember-only\\nevents,\\nmakes\\nJessup\\nCellars\\nwine\\nclub\\nmembership\\none\\nof\\nthe\\nbest\\nexperiences\\nin\\nwine\\n–\\nboth\\nin\\nthe\\nNapa\\nValley,\\nand\\nwhen\\nguests\\ntravel\\nhome\\nto\\nshare\\ngreat\\nwine\\nand\\nfood\\nwith\\nfriends\\nand\\nfamily.\\nFor\\nthe\\nowners\\nand\\nstaff,\\nit’s\\nall\\nabout\\ncreating\\na\\ncommunity\\nto\\nshare\\ntheir\\nlove\\nof\\nwine,\\nthe\\narts,\\nand\\neverything\\nthat\\nmakes\\nthe\\nNapa\\nValley\\nso\\nspecial.\\nCURRENT\\nGALLERY\\nFEATURE\\nJERMAINE\\nDANTÉ\\nMeet\\nour\\nnew\\nresident\\nartist\\nat\\nthe\\nJessup\\nGallery,\\nJermaine\\nDanté.\\nAs\\na\\nresident\\nof\\nNapa\\nValley,\\nJermaine’s\\nartwork\\nis\\ncharacterized\\nby\\nits\\nbold\\nstrokes\\nand\\nevocative\\nimagery,\\nserving\\nas\\na\\nperfect\\nembodiment\\nof\\nthe\\nsymbiotic\\nrelationship\\nbetween\\nart\\nand\\nwine.\\nA\\ncertified\\nsommelier,\\nJermaine\\ncaptures\\nthe\\nessence\\nof\\nWine\\nCountry\\nin\\nmany\\nof\\nhis\\npieces,\\ninfusing\\nthem\\nwith\\nhis\\nunique\\nperspective\\nand\\nartistic\\nflair.\\nCome\\nby\\nto\\nsee\\nhis\\nart\\non\\ndisplay\\nthis\\nsummer\\nand\\nenjoy\\na\\nglass\\nof\\nwine\\nas\\nyou\\nstroll\\nthrough\\nthe\\ngallery.\\nJessup\\nCellars\\nand\\nTasting\\nGallery\\nis\\nlocated\\nat\\n6740\\nWashington\\nSt.\\nat\\nthe\\nNorth\\nend\\nof\\nYountville\\nacross\\nfrom\\nRH\\nYountville\\nand\\nNorth\\nBlock\\nRestaurant.\\nWe\\nare\\nopen\\nfrom\\n10AM\\nto\\n5:30PM\\n7\\ndays\\na\\nweek\\nand\\ncan\\nbe\\nreached\\nat\\n707.944.5620\\nfor\\nreservations\\nand\\ninformation.\\nJessup\\nCellars\\ncan\\nbe\\nfound\\nat\\nhttps://jessupcellars.com/\\nwhere\\nyou\\nmay\\nfind\\ndirections,\\npurchase\\nwine\\nor\\nmake\\nreservations\\nfor\\ntastings\\nat\\nour\\nYountville\\ntasting\\nroom.\\nYountville,\\nCalifornia\\nis\\nlocated\\n9\\nmiles\\nnorth\\nof\\nNapa\\nand\\n9\\nmiles\\nsouth\\nof\\nSt.\\nHelena\\nin\\nthe\\ncenter\\nof\\nthe\\nNapa\\nValley.\\nYou\\ncan\\nreach\\nYountville\\nby\\ncar\\nfrom\\nanywhere\\nin\\nthe\\nNorthern\\nCalifornia\\nBay\\nArea\\nin\\nabout\\nan\\nhour,\\nwhile\\ntravelers\\nfrom\\nthe\\nSacramento\\nregion\\nwill\\ntake\\nabout\\n1.5\\nhours.\\nThe\\narea\\nis\\nserved\\nby\\nmultiple\\nairports\\nincluding\\nSFO,\\nOakland,\\nSacramento\\nand\\nSanta\\nRosa.\\nJessup\\nCellars\\nwelcomes\\nyour\\nwell-behaved\\ndogs\\ninside\\nor\\noutside\\nand\\nwe\\nhave\\ngluten\\nfree\\ndog\\ntreats\\navailable\\nas\\nwell\\nas\\nwater\\ndishes.\\nJessup\\nCellars\\nwines\\nare\\ncarefully\\ncrafted\\nwith\\nthe\\nhelp\\nof\\nour\\nrenowned\\nconsulting\\nwinemaker\\nRob\\nLloyd\\nwho\\nfamously\\ncrafted\\nChardonnay\\nfor\\nRombauer,\\nLa\\nCrema\\nand\\nCakebread.\\nNot\\nonly\\nhas\\nRob\\ncreated\\none\\nof\\nthe\\nbest\\nChardonnays\\nin\\nthe\\nNapa\\nValley\\nwith\\nour\\n2022')"
            ]
          },
          "metadata": {},
          "execution_count": 16
        }
      ]
    },
    {
      "cell_type": "code",
      "source": [
        "def make_chunks(docs , chunk_len = 1000 , chunk_overlap = 200):\n",
        "  text_splitter = RecursiveCharacterTextSplitter.from_tiktoken_encoder(chunk_size=chunk_len, chunk_overlap= chunk_overlap)\n",
        "  chunks = text_splitter.split_documents(docs)\n",
        "  return chunks"
      ],
      "metadata": {
        "id": "wAFM6EX4hVJN"
      },
      "execution_count": 17,
      "outputs": []
    },
    {
      "cell_type": "code",
      "source": [
        "splits = make_chunks(data)\n",
        "splits[0]"
      ],
      "metadata": {
        "colab": {
          "base_uri": "https://localhost:8080/",
          "height": 0
        },
        "id": "O60inWfUhyLM",
        "outputId": "6d86ee3a-c074-4e69-cead-a70ccfa01dcb"
      },
      "execution_count": 18,
      "outputs": [
        {
          "output_type": "execute_result",
          "data": {
            "text/plain": [
              "Document(metadata={'source': '/content/Data/Corpus.pdf', 'page': 0}, page_content='Jessup\\nCellars\\nCorpus\\nJessup\\nCellars\\nInformation\\nJessup\\nCellars\\nhas\\na\\ncasual\\nand\\ninviting\\natmosphere\\nand\\nwas\\nthe\\nfirst\\ntasting\\nroom\\nopened\\nin\\nYountville\\nin\\n2003.\\nYou\\nhave\\nthe\\noption\\nof\\nsitting\\ninside\\nour\\nstunning\\nart\\ngallery\\nor\\nyou\\nmay\\nchoose\\nto\\nenjoy\\nthe\\npatio\\nwith\\ngiant\\numbrellas.\\nWe\\nalso\\nhave\\nspace\\navailable\\nfor\\nprivate\\ngroups\\nand\\nspecial\\naccommodations\\nand\\nsnacks\\nfor\\nyour\\nchildren.\\nOur\\nfine\\nart\\nis\\nmeticulously\\ncurated\\nby\\nour\\nlead\\nartist\\nJermaine\\nDante\\nwho\\nexhibits\\nhis\\ncolorful\\ncreations\\nin\\nlarge\\nformats\\nin\\nour\\nspacious\\ngallery\\nwhere\\nyou\\ncan\\ntake\\nin,\\nor\\ntake\\nhome\\nthe\\ninspiring\\nart\\nwhile\\nimbibing\\nyour\\nfavorite\\nJessup\\nwines.\\nBOTH\\nSEASONED\\nWINE\\nLOVERS,\\nAND\\nTHOSE\\nJUST\\nLEARNING\\nABOUT\\nWINE,\\nARE\\nEMBRACED\\nAND\\nWELCOMED\\nAT\\nJESSUP\\nCELLARS.\\nLocated\\njust\\na\\nblock\\nnorth\\nfrom\\nthe\\nfamed\\nThe\\nFrench\\nLaundry\\nin\\nthe\\nquaint\\nvillage\\nof\\nYountville,\\nour\\nwines\\nare\\navailable\\nexclusively\\nthrough\\nour\\nTasting\\nRoom\\nGallery\\nand\\nwebsite.\\nFounded\\nby\\nDan\\nand\\nBecky\\nBlue,\\nRoy\\nand\\nCheri\\nEisiminger,\\nVance\\nand\\nJana\\nThompson,\\nJim\\nand\\nKelly\\nMazzo,\\nKerry\\nand\\nCindi\\nSolomon,\\nand\\nEric\\nand\\nMarleen\\nDonnenfeld,\\ntheir\\nmission\\nis\\nto\\ncreate\\nand\\nshare\\nlife-enriching\\nexperiences\\nfor\\ntheir\\nmembers\\nand\\nguests,\\nwhile\\nalso\\ngiving\\nback\\nto\\nthe\\ncommunity\\nthrough\\nthe\\nsupport\\nof\\nthe\\narts.\\nTHE\\nART\\nOF\\nHOSPITALITY\\nGuests\\nat\\nJessup\\nCellars\\nmay\\nchoose\\nto\\ntaste\\nat\\nits\\nwine\\nbar\\nor\\nrelax\\nwith\\nsit-down,\\nhosted\\ntastings\\nin\\nthe\\nwinery’s\\nspacious\\ngallery\\namong\\ncurated\\nart,\\nwhich\\nfeatures\\nrotating\\ninstallations\\nby\\ncelebrated\\nregional\\nand\\nnational\\nartists.The\\nwinery\\nalso\\nspecializes\\nin\\nhosting\\ninteractive\\nexperiences\\nwith\\na\\nfocus\\non\\nthe\\narts.\\nHighlights\\ninclude\\nits\\nArt\\nHouse\\nSessions\\nsummer\\nmusic\\nseries\\nand\\nArt\\nHouse\\nShort\\nFilm\\nSeries.\\nAll\\nof\\nthe\\nabove,\\nalong\\nwith\\nexclusive\\naccess\\nto\\nlimited\\nrelease\\nwines\\nand\\nmember-only\\nevents,\\nmakes\\nJessup\\nCellars\\nwine\\nclub\\nmembership\\none\\nof\\nthe\\nbest\\nexperiences\\nin\\nwine\\n–\\nboth\\nin\\nthe\\nNapa\\nValley,\\nand\\nwhen\\nguests\\ntravel\\nhome\\nto\\nshare\\ngreat\\nwine\\nand\\nfood\\nwith\\nfriends\\nand\\nfamily.\\nFor\\nthe\\nowners\\nand\\nstaff,\\nit’s\\nall\\nabout\\ncreating\\na\\ncommunity\\nto\\nshare\\ntheir\\nlove\\nof\\nwine,\\nthe\\narts,\\nand\\neverything\\nthat\\nmakes\\nthe\\nNapa\\nValley\\nso\\nspecial.\\nCURRENT\\nGALLERY\\nFEATURE\\nJERMAINE\\nDANTÉ\\nMeet\\nour\\nnew\\nresident\\nartist\\nat\\nthe\\nJessup\\nGallery,\\nJermaine\\nDanté.\\nAs\\na\\nresident\\nof\\nNapa\\nValley,\\nJermaine’s\\nartwork\\nis\\ncharacterized\\nby\\nits\\nbold\\nstrokes\\nand\\nevocative\\nimagery,\\nserving\\nas\\na\\nperfect\\nembodiment\\nof\\nthe\\nsymbiotic\\nrelationship\\nbetween\\nart')"
            ]
          },
          "metadata": {},
          "execution_count": 18
        }
      ]
    },
    {
      "cell_type": "markdown",
      "source": [
        "Parsing and converting text to chunks"
      ],
      "metadata": {
        "id": "5lf2jq7kp1iG"
      }
    },
    {
      "cell_type": "code",
      "source": [
        "embeddings = OpenAIEmbeddings(api_key=os.environ['OPENAI_API_KEY'])"
      ],
      "metadata": {
        "id": "bDo9W0Lbh1R8"
      },
      "execution_count": 19,
      "outputs": []
    },
    {
      "cell_type": "code",
      "source": [
        "pc = Pinecone(os.environ['PINECONE_API_KEY'])"
      ],
      "metadata": {
        "id": "qk0wbPuGh-X7"
      },
      "execution_count": 20,
      "outputs": []
    },
    {
      "cell_type": "code",
      "source": [
        "pip install --upgrade langchain-pinecone"
      ],
      "metadata": {
        "collapsed": true,
        "colab": {
          "base_uri": "https://localhost:8080/",
          "height": 0
        },
        "id": "vxj3R2M8iQJX",
        "outputId": "00e3f540-46a8-4c68-c7f0-ae6d7378fc25"
      },
      "execution_count": 22,
      "outputs": [
        {
          "output_type": "stream",
          "name": "stdout",
          "text": [
            "Collecting langchain-pinecone\n",
            "  Downloading langchain_pinecone-0.1.2-py3-none-any.whl (8.5 kB)\n",
            "Requirement already satisfied: langchain-core<0.3,>=0.1.52 in /usr/local/lib/python3.10/dist-packages (from langchain-pinecone) (0.2.23)\n",
            "Requirement already satisfied: numpy<2,>=1 in /usr/local/lib/python3.10/dist-packages (from langchain-pinecone) (1.25.2)\n",
            "Collecting pinecone-client<5,>=3.2.2 (from langchain-pinecone)\n",
            "  Downloading pinecone_client-4.1.2-py3-none-any.whl (216 kB)\n",
            "\u001b[2K     \u001b[90m━━━━━━━━━━━━━━━━━━━━━━━━━━━━━━━━━━━━━━━━\u001b[0m \u001b[32m216.4/216.4 kB\u001b[0m \u001b[31m7.2 MB/s\u001b[0m eta \u001b[36m0:00:00\u001b[0m\n",
            "\u001b[?25hRequirement already satisfied: PyYAML>=5.3 in /usr/local/lib/python3.10/dist-packages (from langchain-core<0.3,>=0.1.52->langchain-pinecone) (6.0.1)\n",
            "Requirement already satisfied: jsonpatch<2.0,>=1.33 in /usr/local/lib/python3.10/dist-packages (from langchain-core<0.3,>=0.1.52->langchain-pinecone) (1.33)\n",
            "Requirement already satisfied: langsmith<0.2.0,>=0.1.75 in /usr/local/lib/python3.10/dist-packages (from langchain-core<0.3,>=0.1.52->langchain-pinecone) (0.1.93)\n",
            "Requirement already satisfied: packaging<25,>=23.2 in /usr/local/lib/python3.10/dist-packages (from langchain-core<0.3,>=0.1.52->langchain-pinecone) (24.1)\n",
            "Requirement already satisfied: pydantic<3,>=1 in /usr/local/lib/python3.10/dist-packages (from langchain-core<0.3,>=0.1.52->langchain-pinecone) (2.8.2)\n",
            "Requirement already satisfied: tenacity!=8.4.0,<9.0.0,>=8.1.0 in /usr/local/lib/python3.10/dist-packages (from langchain-core<0.3,>=0.1.52->langchain-pinecone) (8.5.0)\n",
            "Requirement already satisfied: certifi>=2019.11.17 in /usr/local/lib/python3.10/dist-packages (from pinecone-client<5,>=3.2.2->langchain-pinecone) (2024.7.4)\n",
            "Requirement already satisfied: pinecone-plugin-interface<0.0.8,>=0.0.7 in /usr/local/lib/python3.10/dist-packages (from pinecone-client<5,>=3.2.2->langchain-pinecone) (0.0.7)\n",
            "Requirement already satisfied: tqdm>=4.64.1 in /usr/local/lib/python3.10/dist-packages (from pinecone-client<5,>=3.2.2->langchain-pinecone) (4.66.4)\n",
            "Requirement already satisfied: typing-extensions>=3.7.4 in /usr/local/lib/python3.10/dist-packages (from pinecone-client<5,>=3.2.2->langchain-pinecone) (4.12.2)\n",
            "Requirement already satisfied: urllib3>=1.26.0 in /usr/local/lib/python3.10/dist-packages (from pinecone-client<5,>=3.2.2->langchain-pinecone) (2.0.7)\n",
            "Requirement already satisfied: jsonpointer>=1.9 in /usr/local/lib/python3.10/dist-packages (from jsonpatch<2.0,>=1.33->langchain-core<0.3,>=0.1.52->langchain-pinecone) (3.0.0)\n",
            "Requirement already satisfied: orjson<4.0.0,>=3.9.14 in /usr/local/lib/python3.10/dist-packages (from langsmith<0.2.0,>=0.1.75->langchain-core<0.3,>=0.1.52->langchain-pinecone) (3.10.6)\n",
            "Requirement already satisfied: requests<3,>=2 in /usr/local/lib/python3.10/dist-packages (from langsmith<0.2.0,>=0.1.75->langchain-core<0.3,>=0.1.52->langchain-pinecone) (2.31.0)\n",
            "Requirement already satisfied: annotated-types>=0.4.0 in /usr/local/lib/python3.10/dist-packages (from pydantic<3,>=1->langchain-core<0.3,>=0.1.52->langchain-pinecone) (0.7.0)\n",
            "Requirement already satisfied: pydantic-core==2.20.1 in /usr/local/lib/python3.10/dist-packages (from pydantic<3,>=1->langchain-core<0.3,>=0.1.52->langchain-pinecone) (2.20.1)\n",
            "Requirement already satisfied: charset-normalizer<4,>=2 in /usr/local/lib/python3.10/dist-packages (from requests<3,>=2->langsmith<0.2.0,>=0.1.75->langchain-core<0.3,>=0.1.52->langchain-pinecone) (3.3.2)\n",
            "Requirement already satisfied: idna<4,>=2.5 in /usr/local/lib/python3.10/dist-packages (from requests<3,>=2->langsmith<0.2.0,>=0.1.75->langchain-core<0.3,>=0.1.52->langchain-pinecone) (3.7)\n",
            "Installing collected packages: pinecone-client, langchain-pinecone\n",
            "  Attempting uninstall: pinecone-client\n",
            "    Found existing installation: pinecone-client 5.0.0\n",
            "    Uninstalling pinecone-client-5.0.0:\n",
            "      Successfully uninstalled pinecone-client-5.0.0\n",
            "Successfully installed langchain-pinecone-0.1.2 pinecone-client-4.1.2\n"
          ]
        }
      ]
    },
    {
      "cell_type": "code",
      "source": [
        "from langchain_pinecone import PineconeVectorStore\n",
        "text_field = \"text\"\n",
        "vectorstore = PineconeVectorStore.from_documents(\n",
        "    splits,\n",
        "    embeddings,\n",
        "    index_name=\"data\"\n",
        ")"
      ],
      "metadata": {
        "id": "fYi9qkfviIaG"
      },
      "execution_count": 23,
      "outputs": []
    },
    {
      "cell_type": "markdown",
      "source": [
        "Pushing chunks into pinecone by embedding it using OpenAImbeddings"
      ],
      "metadata": {
        "id": "6wsnRCZzp5rT"
      }
    },
    {
      "cell_type": "code",
      "source": [
        "llm = ChatOpenAI(model_name=\"gpt-3.5-turbo\", temperature=0.78)"
      ],
      "metadata": {
        "id": "E5Z4qgEziLba"
      },
      "execution_count": 24,
      "outputs": []
    },
    {
      "cell_type": "code",
      "source": [
        "'''from langchain.chains import RetrievalQA\n",
        "qa = RetrievalQA.from_chain_type(\n",
        "    llm=llm,\n",
        "    chain_type=\"stuff\",\n",
        "    retriever=vectorstore.as_retriever()\n",
        ") '''"
      ],
      "metadata": {
        "id": "rRr7wtxJieL6"
      },
      "execution_count": 25,
      "outputs": []
    },
    {
      "cell_type": "markdown",
      "source": [
        "Making a simple RAG QA model using GPT 3.5 and a prompt."
      ],
      "metadata": {
        "id": "MIRhOuLlqDe9"
      }
    },
    {
      "cell_type": "code",
      "source": [
        "from langchain.chains import create_retrieval_chain\n",
        "from langchain.chains.combine_documents import create_stuff_documents_chain\n",
        "from langchain_core.prompts import ChatPromptTemplate\n",
        "\n",
        "system_prompt = (\n",
        "    \"Use the given context to answer the question. \"\n",
        "    \"If you don't know the answer, say you don't know. \"\n",
        "    \"Use three sentence maximum and keep the answer concise. \"\n",
        "    \"Context: {context}\"\n",
        ")\n",
        "prompt = ChatPromptTemplate.from_messages(\n",
        "    [\n",
        "        (\"system\", system_prompt),\n",
        "        (\"human\", \"{input}\"),\n",
        "    ]\n",
        ")\n",
        "question_answer_chain = create_stuff_documents_chain(llm, prompt)\n",
        "retriever = vectorstore.as_retriever()\n",
        "chain = create_retrieval_chain(retriever , question_answer_chain)\n",
        "\n",
        "chain.invoke({\"input\": \"What does this company sell??\"})"
      ],
      "metadata": {
        "colab": {
          "base_uri": "https://localhost:8080/",
          "height": 0
        },
        "collapsed": true,
        "id": "QE6mJoh_ijJJ",
        "outputId": "d07e9328-6b0c-4f3f-f23d-ff7206f65d17"
      },
      "execution_count": 28,
      "outputs": [
        {
          "output_type": "execute_result",
          "data": {
            "text/plain": [
              "{'input': 'What does this company sell??',\n",
              " 'context': [Document(metadata={'page': 1.0, 'source': '/content/Data/Corpus.pdf'}, page_content='Pork\\nChops\\nfrom\\nMustards\\nGrill\\n–\\nrichness\\npaired\\nwith\\nrichness\\nAbout:\\nBernardo\\nbegan\\nhis\\ncareer\\nin\\nthe\\nvineyards,\\nlearning\\nthe\\nintricacies\\nof\\ngrape\\ngrowing\\nand\\nhow\\nto\\nadjust\\nto\\nthe\\nwhims\\nof\\nMother\\nNature.\\nHe\\nthen\\nmoved\\ninto\\nthe\\ncellars\\nat\\nJessup\\nCellars,\\nbringing\\nus\\nhis\\ncomplete\\ngrape\\nto\\nbottle\\nknowledge\\nto\\nthe\\nteam.\\nHe\\nhas\\na\\nkeen\\nunderstanding\\nof\\nwhat\\nit\\ntakes\\nto\\nmake\\na\\ngreat\\nbottle.\\nWhite\\nWine\\nOur\\nleading\\nwhite\\nwine\\nis\\nour\\nNapa\\nValley\\nChardonnay\\nfrom\\nthe\\nLos\\nCarneros\\nregion.\\nThe\\nTruchard\\nVineyard\\nis\\nperfectly\\nlocated\\nin\\nthe\\nhills\\nabove\\nHighway\\n12\\nwith\\nthe\\nSan\\nFrancisco\\nBay\\ninfluences\\ncreating\\na\\ncooler\\ngrowing\\nclimate\\nwhere\\nthe\\ngrapes\\nripen\\nslowly\\nand\\nperfectly\\non\\nthe\\nvine.\\nThe\\nperfect\\nweather\\ncombines\\nwith\\nan\\nideal\\nterroir\\nto\\ncreate\\nthe\\nfoundation\\nfor\\na\\nwell-balanced\\nChardonnay\\naged\\nfor\\n10\\nmonths\\nin\\n40%\\nnew\\nAmerican\\nOak\\nbarrels.\\nWe\\nalso\\noffer\\nan\\nannual\\nharvest\\nof\\nSauvignon\\nBlanc\\nwhich\\nis\\nsourced\\nfrom\\nNorth\\nCoast\\nvines\\noutside\\nof\\nthe\\nNapa\\nValley.\\nThe\\ntropical\\nnature\\nof\\nour\\n2023\\nSauvignon\\nBlanc\\nis\\ndecidedly\\ndifferent\\nthan\\nthe\\ntypical\\nSauvignon\\nBlanc\\ngrown\\nin\\nthe\\nValley\\nand\\nelsewhere\\nin\\nthe\\nWorld.\\nDue\\nto\\nits\\nlimited\\nsupply\\nthis\\nwine\\nsells\\nout\\nquickly\\neach\\nyear\\nso\\nbe\\nsure\\nto\\ngive\\nus\\na\\ncall\\nbefore\\nvisiting\\nour\\ntasting\\nroom\\nto\\ncheck\\navailability.\\nThe\\nJessup\\nCellars\\n2022\\nChardonnay\\nis\\na\\nwhite\\nwine\\nthat\\ncomes\\nacross\\nas\\nvery\\nwell\\nbalanced\\ndue\\nto\\nthe\\naging\\nbeing\\ndone\\nin\\na\\ncombination\\nof\\n40%\\nnew\\nAmerican\\nand\\n60%\\nneutral\\nAmerican\\nOak.\\nThis\\nbrings\\nhints\\nof\\noak\\nto\\nthe\\nwine\\nwhile\\nalso\\noffering\\na\\nslightly\\ncreamy\\nmouth\\nfeel\\nwithout\\nbeing\\na\\nbutter\\nbomb.\\nOur\\nNapa\\nValley\\nChardonnay\\nis\\na\\nmember\\nfavorite\\nwhile\\nthe\\nnon-member\\nprice\\nof\\n$55\\nis\\nappreciated\\nby\\nenthusiasts\\nof\\nthis\\nquality\\nwine\\ncrafted\\nby\\nRob\\nLloyd.\\nThe\\nalcohol\\ncontent\\nis\\n14.8%\\nwhile\\nthe\\nPH\\nis\\n3.4.'),\n",
              "  Document(metadata={'page': 1.0, 'source': '/content/Data/Corpus.pdf'}, page_content='Pork\\nChops\\nfrom\\nMustards\\nGrill\\n–\\nrichness\\npaired\\nwith\\nrichness\\nAbout:\\nBernardo\\nbegan\\nhis\\ncareer\\nin\\nthe\\nvineyards,\\nlearning\\nthe\\nintricacies\\nof\\ngrape\\ngrowing\\nand\\nhow\\nto\\nadjust\\nto\\nthe\\nwhims\\nof\\nMother\\nNature.\\nHe\\nthen\\nmoved\\ninto\\nthe\\ncellars\\nat\\nJessup\\nCellars,\\nbringing\\nus\\nhis\\ncomplete\\ngrape\\nto\\nbottle\\nknowledge\\nto\\nthe\\nteam.\\nHe\\nhas\\na\\nkeen\\nunderstanding\\nof\\nwhat\\nit\\ntakes\\nto\\nmake\\na\\ngreat\\nbottle.\\nWhite\\nWine\\nOur\\nleading\\nwhite\\nwine\\nis\\nour\\nNapa\\nValley\\nChardonnay\\nfrom\\nthe\\nLos\\nCarneros\\nregion.\\nThe\\nTruchard\\nVineyard\\nis\\nperfectly\\nlocated\\nin\\nthe\\nhills\\nabove\\nHighway\\n12\\nwith\\nthe\\nSan\\nFrancisco\\nBay\\ninfluences\\ncreating\\na\\ncooler\\ngrowing\\nclimate\\nwhere\\nthe\\ngrapes\\nripen\\nslowly\\nand\\nperfectly\\non\\nthe\\nvine.\\nThe\\nperfect\\nweather\\ncombines\\nwith\\nan\\nideal\\nterroir\\nto\\ncreate\\nthe\\nfoundation\\nfor\\na\\nwell-balanced\\nChardonnay\\naged\\nfor\\n10\\nmonths\\nin\\n40%\\nnew\\nAmerican\\nOak\\nbarrels.\\nWe\\nalso\\noffer\\nan\\nannual\\nharvest\\nof\\nSauvignon\\nBlanc\\nwhich\\nis\\nsourced\\nfrom\\nNorth\\nCoast\\nvines\\noutside\\nof\\nthe\\nNapa\\nValley.\\nThe\\ntropical\\nnature\\nof\\nour\\n2023\\nSauvignon\\nBlanc\\nis\\ndecidedly\\ndifferent\\nthan\\nthe\\ntypical\\nSauvignon\\nBlanc\\ngrown\\nin\\nthe\\nValley\\nand\\nelsewhere\\nin\\nthe\\nWorld.\\nDue\\nto\\nits\\nlimited\\nsupply\\nthis\\nwine\\nsells\\nout\\nquickly\\neach\\nyear\\nso\\nbe\\nsure\\nto\\ngive\\nus\\na\\ncall\\nbefore\\nvisiting\\nour\\ntasting\\nroom\\nto\\ncheck\\navailability.\\nThe\\nJessup\\nCellars\\n2022\\nChardonnay\\nis\\na\\nwhite\\nwine\\nthat\\ncomes\\nacross\\nas\\nvery\\nwell\\nbalanced\\ndue\\nto\\nthe\\naging\\nbeing\\ndone\\nin\\na\\ncombination\\nof\\n40%\\nnew\\nAmerican\\nand\\n60%\\nneutral\\nAmerican\\nOak.\\nThis\\nbrings\\nhints\\nof\\noak\\nto\\nthe\\nwine\\nwhile\\nalso\\noffering\\na\\nslightly\\ncreamy\\nmouth\\nfeel\\nwithout\\nbeing\\na\\nbutter\\nbomb.\\nOur\\nNapa\\nValley\\nChardonnay\\nis\\na\\nmember\\nfavorite\\nwhile\\nthe\\nnon-member\\nprice\\nof\\n$55\\nis\\nappreciated\\nby\\nenthusiasts\\nof\\nthis\\nquality\\nwine\\ncrafted\\nby\\nRob\\nLloyd.\\nThe\\nalcohol\\ncontent\\nis\\n14.8%\\nwhile\\nthe\\nPH\\nis\\n3.4.'),\n",
              "  Document(metadata={'page': 5.0, 'source': '/content/Data/Corpus.pdf'}, page_content='wine\\noffers\\npronounced\\naromas\\nof\\nstewed\\ncherry,\\ndried\\nfig,\\nchocolate,\\nand\\nbaking\\nspice\\nwith\\na\\nkiss\\nof\\nsandalwood\\nand\\ncedar.\\nA\\ndecadent\\nand\\njuicy\\npalate\\nof\\nmixed\\nberry\\npreserves\\nwill\\nmake\\na\\nperfect\\ndigestif\\nafter\\na\\nrich\\nmeal.\\nDeliciously\\nsweet\\nyet\\nfresh,this\\nwine\\nwill\\npair\\nwith\\ndesserts\\nlike\\nchocolate\\nlava\\ncake\\nor\\na\\ncheese\\ncourse\\nof\\nripe,\\naged,\\nsalty\\ncheeses.\\nEnjoy\\nit\\nnow\\nor\\ncellar\\nfor\\n10-15\\nyears.\\nThe\\nInfinite\\nReflection\\n13th\\nRecursion\\nis\\n100%\\nNapa\\nValley\\nCabernet\\nSauvignon\\naged\\nfor\\n12\\nyears\\nin\\nFrench\\noak\\nwith\\nan\\nalcohol\\ncontent\\nof\\n19.5%.\\nNon-members\\nmay\\npurchase\\nthis\\nwine\\nfor\\n$85.\\nThe\\nSolera\\nmethod\\nis\\na\\ntraditional\\naging\\nand\\nblending\\nprocess\\ncommonly\\nused\\nin\\nthe\\nproduction\\nof\\nfortified\\nwines,\\nincluding\\ndessert\\nwines\\nlike\\nSherry\\nand\\nMadeira.\\nHere\\'s\\nhow\\nit\\nworks:\\nTiered\\nStacking:\\nThe\\nprocess\\nbegins\\nwith\\na\\nseries\\nof\\nbarrels\\nor\\ncasks\\narranged\\nin\\na\\ntiered\\nsystem\\ncalled\\na\\n\"solera\\nstack.\"\\nThe\\nbottom\\nrow\\ncontains\\nthe\\noldest\\nwine,\\nwhile\\nsubsequent\\nrows\\ncontain\\nprogressively\\nyounger\\nwines.\\nFractional\\nBlending:\\nEach\\nyear,\\na\\nportion\\nof\\nwine\\nis\\ndrawn\\nfrom\\nthe\\nbottom\\nrow\\nof\\nbarrels\\nfor\\nbottling.\\nThis\\ncreates\\nspace\\nin\\nthose\\nbarrels,\\nwhich\\nare\\nthen\\ntopped\\nup\\nwith\\nwine\\nfrom\\nthe\\nrow\\nabove.\\nThe\\nprocess\\ncontinues\\nup\\nthe\\nstack,\\nwith\\neach\\nbarrel\\nbeing\\npartially\\nemptied\\nand\\nthen\\nreplenished\\nwith\\nyounger\\nwine.\\nAging\\nand\\nMaturity:\\nBecause\\nthe\\nbarrels\\nare\\nonly\\npartially\\nemptied\\neach\\nyear,\\na\\nportion\\nof\\nthe\\nolder\\nwine\\nalways\\nremains\\nin\\nthe\\nbarrels,\\ncontributing\\nto\\nthe\\ncomplexity\\nand\\ndepth\\nof\\nflavor.\\nOver\\ntime,\\nthe\\nyounger\\nwines\\ngradually\\nblend\\nwith\\nand\\ninherit\\ncharacteristics\\nfrom\\nthe\\nolder\\nwines.\\nConsistency:\\nThe\\nSolera\\nmethod\\nensures\\nconsistency\\nin\\nthe\\nfinal\\nproduct,\\nas\\nthe\\nblend\\nof\\nwines\\nremains\\nrelatively\\nconstant\\nover\\ntime.\\nEven\\nthough\\nsome\\nwine\\nis\\nremoved\\nfor\\nbottling\\neach\\nyear,\\nthe\\noverall\\ncharacter\\nof\\nthe\\nsolera\\nremains\\nconsistent\\ndue\\nto\\nthe\\nblending\\nof\\nolder\\nand\\nyounger\\nwines.\\nPerpetual\\nProcess:\\nThe\\nSolera\\nsystem\\nis\\ndesigned\\nto\\nbe\\nperpetual,\\nwith\\nnew\\nwine\\ncontinuously\\nadded\\nat\\nthe\\ntop\\nand\\nmatured\\nwine\\ndrawn\\nfrom\\nthe\\nbottom\\nfor\\nbottling.\\nThis\\nallows\\nproducers\\nto\\nmaintain\\na\\nconsistent\\nproduct\\nwhile\\nalso\\nensuring\\nthat\\nsome\\nof\\nthe\\noriginal\\nwine\\nremains\\nin\\nthe\\nsolera\\nstack,\\nsometimes\\nfor\\nmany\\nyears\\nor\\neven\\ndecades.\\nOverall,\\nthe\\nSolera\\nmethod\\nis\\na\\nmeticulous\\nand\\ntime-honored\\nprocess\\nthat\\nresults\\nin\\ncomplex,\\nwell-balanced\\ndessert\\nwines\\nwith\\nlayers\\nof\\nflavor\\nand\\naroma.\\nTasting\\nExperiences\\nJessup'),\n",
              "  Document(metadata={'page': 5.0, 'source': '/content/Data/Corpus.pdf'}, page_content='wine\\noffers\\npronounced\\naromas\\nof\\nstewed\\ncherry,\\ndried\\nfig,\\nchocolate,\\nand\\nbaking\\nspice\\nwith\\na\\nkiss\\nof\\nsandalwood\\nand\\ncedar.\\nA\\ndecadent\\nand\\njuicy\\npalate\\nof\\nmixed\\nberry\\npreserves\\nwill\\nmake\\na\\nperfect\\ndigestif\\nafter\\na\\nrich\\nmeal.\\nDeliciously\\nsweet\\nyet\\nfresh,this\\nwine\\nwill\\npair\\nwith\\ndesserts\\nlike\\nchocolate\\nlava\\ncake\\nor\\na\\ncheese\\ncourse\\nof\\nripe,\\naged,\\nsalty\\ncheeses.\\nEnjoy\\nit\\nnow\\nor\\ncellar\\nfor\\n10-15\\nyears.\\nThe\\nInfinite\\nReflection\\n13th\\nRecursion\\nis\\n100%\\nNapa\\nValley\\nCabernet\\nSauvignon\\naged\\nfor\\n12\\nyears\\nin\\nFrench\\noak\\nwith\\nan\\nalcohol\\ncontent\\nof\\n19.5%.\\nNon-members\\nmay\\npurchase\\nthis\\nwine\\nfor\\n$85.\\nThe\\nSolera\\nmethod\\nis\\na\\ntraditional\\naging\\nand\\nblending\\nprocess\\ncommonly\\nused\\nin\\nthe\\nproduction\\nof\\nfortified\\nwines,\\nincluding\\ndessert\\nwines\\nlike\\nSherry\\nand\\nMadeira.\\nHere\\'s\\nhow\\nit\\nworks:\\nTiered\\nStacking:\\nThe\\nprocess\\nbegins\\nwith\\na\\nseries\\nof\\nbarrels\\nor\\ncasks\\narranged\\nin\\na\\ntiered\\nsystem\\ncalled\\na\\n\"solera\\nstack.\"\\nThe\\nbottom\\nrow\\ncontains\\nthe\\noldest\\nwine,\\nwhile\\nsubsequent\\nrows\\ncontain\\nprogressively\\nyounger\\nwines.\\nFractional\\nBlending:\\nEach\\nyear,\\na\\nportion\\nof\\nwine\\nis\\ndrawn\\nfrom\\nthe\\nbottom\\nrow\\nof\\nbarrels\\nfor\\nbottling.\\nThis\\ncreates\\nspace\\nin\\nthose\\nbarrels,\\nwhich\\nare\\nthen\\ntopped\\nup\\nwith\\nwine\\nfrom\\nthe\\nrow\\nabove.\\nThe\\nprocess\\ncontinues\\nup\\nthe\\nstack,\\nwith\\neach\\nbarrel\\nbeing\\npartially\\nemptied\\nand\\nthen\\nreplenished\\nwith\\nyounger\\nwine.\\nAging\\nand\\nMaturity:\\nBecause\\nthe\\nbarrels\\nare\\nonly\\npartially\\nemptied\\neach\\nyear,\\na\\nportion\\nof\\nthe\\nolder\\nwine\\nalways\\nremains\\nin\\nthe\\nbarrels,\\ncontributing\\nto\\nthe\\ncomplexity\\nand\\ndepth\\nof\\nflavor.\\nOver\\ntime,\\nthe\\nyounger\\nwines\\ngradually\\nblend\\nwith\\nand\\ninherit\\ncharacteristics\\nfrom\\nthe\\nolder\\nwines.\\nConsistency:\\nThe\\nSolera\\nmethod\\nensures\\nconsistency\\nin\\nthe\\nfinal\\nproduct,\\nas\\nthe\\nblend\\nof\\nwines\\nremains\\nrelatively\\nconstant\\nover\\ntime.\\nEven\\nthough\\nsome\\nwine\\nis\\nremoved\\nfor\\nbottling\\neach\\nyear,\\nthe\\noverall\\ncharacter\\nof\\nthe\\nsolera\\nremains\\nconsistent\\ndue\\nto\\nthe\\nblending\\nof\\nolder\\nand\\nyounger\\nwines.\\nPerpetual\\nProcess:\\nThe\\nSolera\\nsystem\\nis\\ndesigned\\nto\\nbe\\nperpetual,\\nwith\\nnew\\nwine\\ncontinuously\\nadded\\nat\\nthe\\ntop\\nand\\nmatured\\nwine\\ndrawn\\nfrom\\nthe\\nbottom\\nfor\\nbottling.\\nThis\\nallows\\nproducers\\nto\\nmaintain\\na\\nconsistent\\nproduct\\nwhile\\nalso\\nensuring\\nthat\\nsome\\nof\\nthe\\noriginal\\nwine\\nremains\\nin\\nthe\\nsolera\\nstack,\\nsometimes\\nfor\\nmany\\nyears\\nor\\neven\\ndecades.\\nOverall,\\nthe\\nSolera\\nmethod\\nis\\na\\nmeticulous\\nand\\ntime-honored\\nprocess\\nthat\\nresults\\nin\\ncomplex,\\nwell-balanced\\ndessert\\nwines\\nwith\\nlayers\\nof\\nflavor\\nand\\naroma.\\nTasting\\nExperiences\\nJessup')],\n",
              " 'answer': 'The company sells white wine, specifically Napa Valley Chardonnay and Sauvignon Blanc, as well as red wine like Napa Valley Cabernet Sauvignon. They also produce dessert wines using the Solera method, such as Sherry and Madeira-style wines. Additionally, they offer tasting experiences at Jessup Cellars.'}"
            ]
          },
          "metadata": {},
          "execution_count": 28
        }
      ]
    },
    {
      "cell_type": "markdown",
      "source": [
        "Getting Answer from model output."
      ],
      "metadata": {
        "id": "bhjqwGAcqPEQ"
      }
    },
    {
      "cell_type": "code",
      "source": [
        "def get_ans(prompt):\n",
        "  ans = chain.invoke({\"input\": prompt})\n",
        "  return ans['answer']"
      ],
      "metadata": {
        "id": "XnXeA567l4sA"
      },
      "execution_count": 29,
      "outputs": []
    },
    {
      "cell_type": "code",
      "source": [
        "get_ans(\"What does this company sell??\")"
      ],
      "metadata": {
        "colab": {
          "base_uri": "https://localhost:8080/",
          "height": 54
        },
        "id": "oQb5AHFBmPvK",
        "outputId": "5f7c499c-067e-485a-b1c6-9d42234cd28b"
      },
      "execution_count": 30,
      "outputs": [
        {
          "output_type": "execute_result",
          "data": {
            "text/plain": [
              "'The company sells white wines, such as Napa Valley Chardonnay and Sauvignon Blanc, aged in American Oak barrels. They also offer red wines like Napa Valley Cabernet Sauvignon aged in French oak. Additionally, they produce dessert wines using the Solera method, resulting in complex and well-balanced flavors and aromas.'"
            ],
            "application/vnd.google.colaboratory.intrinsic+json": {
              "type": "string"
            }
          },
          "metadata": {},
          "execution_count": 30
        }
      ]
    },
    {
      "cell_type": "code",
      "source": [],
      "metadata": {
        "id": "4zqo7caJmRVt"
      },
      "execution_count": null,
      "outputs": []
    }
  ]
}